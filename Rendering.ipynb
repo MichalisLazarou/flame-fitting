{
 "cells": [
  {
   "cell_type": "code",
   "execution_count": 1,
   "metadata": {},
   "outputs": [],
   "source": [
    "import numpy as np\n",
    "import sys\n",
    "sys.executable\n",
    "import os\n",
    "os.environ['PYOPENGL_PLATFORM'] = 'egl'\n",
    "from os.path import join\n",
    "from smpl_webuser.serialization import load_model\n",
    "from fitting.util import write_simple_obj, safe_mkdir\n",
    "import trimesh\n",
    "import pyrender\n",
    "import glob\n",
    "import matplotlib.pyplot as plt\n",
    "import time"
   ]
  },
  {
   "cell_type": "code",
   "execution_count": 2,
   "metadata": {},
   "outputs": [
    {
     "ename": "SyntaxError",
     "evalue": "invalid syntax (egl.py, line 117)",
     "output_type": "error",
     "traceback": [
      "\u001b[0;36m  File \u001b[0;32m\"/home/michalislazarou/anaconda3/envs/voca/lib/python2.7/site-packages/pyrender/platforms/egl.py\"\u001b[0;36m, line \u001b[0;32m117\u001b[0m\n\u001b[0;31m    def __init__(self, viewport_width, viewport_height, device: EGLDevice = None):\u001b[0m\n\u001b[0m                                                              ^\u001b[0m\n\u001b[0;31mSyntaxError\u001b[0m\u001b[0;31m:\u001b[0m invalid syntax\n"
     ]
    }
   ],
   "source": [
    "fuze_trimesh = trimesh.load('/home/michalislazarou/PhD/VOCA/voca/animation_output/00000.obj')\n",
    "mesh = pyrender.Mesh.from_trimesh(fuze_trimesh)\n",
    "scene = pyrender.Scene()\n",
    "#scene.add(mesh)\n",
    "camera_params = {'c': np.array([200, 200]),\n",
    "                     'k': np.array([-0.19816071, 0.92822711, 0, 0, 0]),\n",
    "                     'f': np.array([4754.97941935 / 2, 4754.97941935 / 2])}\n",
    "frustum = {'near': 0.01, 'far': 3.0, 'height': 800, 'width': 800}\n",
    "\n",
    "camera = pyrender.IntrinsicsCamera(fx=camera_params['f'][0],\n",
    "                                      fy=camera_params['f'][1],\n",
    "                                      cx=camera_params['c'][0],\n",
    "                                      cy=camera_params['c'][1],\n",
    "                                      znear=frustum['near'],\n",
    "                                      zfar=frustum['far'])\n",
    "\n",
    "\n",
    "#scene.add(mesh, pose=np.eye(4))\n",
    "camera_pose = np.eye(4)\n",
    "camera_pose[:3,3] = np.array([0, 0, 1.0])\n",
    "scene.add(camera, pose=[[1, 0, 0, 0],\n",
    "                            [0, 1, 0, 0],\n",
    "                            [0, 0, 1, 1],\n",
    "                            [0, 0, 0, 1]])\n",
    "r = pyrender.OffscreenRenderer(400, 400)\n",
    "v = pyrender.Viewer(scene, run_in_thread=True, use_raymond_lighting=True)\n",
    "nm = pyrender.Node(mesh=mesh, matrix=np.eye(4))\n",
    "#scene.add_node(nm)\n",
    "#print(nm)"
   ]
  },
  {
   "cell_type": "code",
   "execution_count": null,
   "metadata": {},
   "outputs": [],
   "source": [
    "i = 0\n",
    "for name in sorted(glob.glob('/home/michalislazarou/PhD/VOCA/voca/animation_output/*.obj')):\n",
    "    v.render_lock.acquire()\n",
    "    if name != '/home/michalislazarou/PhD/VOCA/voca/animation_output/00000.obj':\n",
    "        scene.remove_node(nm)\n",
    "    obj_load = trimesh.load_mesh(name)\n",
    "    v.render_lock.release()\n",
    "    mesh = pyrender.Mesh.from_trimesh(obj_load) \n",
    "    nm = pyrender.Node(mesh=mesh, matrix=np.eye(4))\n",
    "    scene.add_node(nm)\n",
    "    time.sleep(0.11)\n",
    "    print(name)"
   ]
  },
  {
   "cell_type": "code",
   "execution_count": 3,
   "metadata": {},
   "outputs": [
    {
     "ename": "NameError",
     "evalue": "name 'v' is not defined",
     "output_type": "error",
     "traceback": [
      "\u001b[0;31m---------------------------------------------------------------------------\u001b[0m",
      "\u001b[0;31mNameError\u001b[0m                                 Traceback (most recent call last)",
      "\u001b[0;32m<ipython-input-3-0e4fbac7897e>\u001b[0m in \u001b[0;36m<module>\u001b[0;34m()\u001b[0m\n\u001b[0;32m----> 1\u001b[0;31m \u001b[0mv\u001b[0m\u001b[0;34m.\u001b[0m\u001b[0mrender_lock\u001b[0m\u001b[0;34m.\u001b[0m\u001b[0macquire\u001b[0m\u001b[0;34m(\u001b[0m\u001b[0;34m)\u001b[0m\u001b[0;34m\u001b[0m\u001b[0m\n\u001b[0m",
      "\u001b[0;31mNameError\u001b[0m: name 'v' is not defined"
     ]
    }
   ],
   "source": [
    "v.render_lock.acquire()"
   ]
  },
  {
   "cell_type": "code",
   "execution_count": 10,
   "metadata": {},
   "outputs": [],
   "source": [
    "obj_load = trimesh.load_mesh('/home/michalislazarou/PhD/VOCA/voca/animation_output/00000.obj')\n",
    "mesh = pyrender.Mesh.from_trimesh(obj_load)\n",
    "nm = pyrender.Node(mesh=mesh, matrix=np.eye(4))\n",
    "scene.add_node(nm)"
   ]
  },
  {
   "cell_type": "code",
   "execution_count": 12,
   "metadata": {},
   "outputs": [
    {
     "ename": "RuntimeError",
     "evalue": "cannot release un-acquired lock",
     "output_type": "error",
     "traceback": [
      "\u001b[0;31m---------------------------------------------------------------------------\u001b[0m",
      "\u001b[0;31mRuntimeError\u001b[0m                              Traceback (most recent call last)",
      "\u001b[0;32m<ipython-input-12-fa8739557ae5>\u001b[0m in \u001b[0;36m<module>\u001b[0;34m()\u001b[0m\n\u001b[0;32m----> 1\u001b[0;31m \u001b[0mv\u001b[0m\u001b[0;34m.\u001b[0m\u001b[0mrender_lock\u001b[0m\u001b[0;34m.\u001b[0m\u001b[0mrelease\u001b[0m\u001b[0;34m(\u001b[0m\u001b[0;34m)\u001b[0m\u001b[0;34m\u001b[0m\u001b[0m\n\u001b[0m",
      "\u001b[0;32m/home/michalislazarou/anaconda3/envs/voca/lib/python2.7/threading.pyc\u001b[0m in \u001b[0;36mrelease\u001b[0;34m(self)\u001b[0m\n\u001b[1;32m    202\u001b[0m         \"\"\"\n\u001b[1;32m    203\u001b[0m         \u001b[0;32mif\u001b[0m \u001b[0mself\u001b[0m\u001b[0;34m.\u001b[0m\u001b[0m__owner\u001b[0m \u001b[0;34m!=\u001b[0m \u001b[0m_get_ident\u001b[0m\u001b[0;34m(\u001b[0m\u001b[0;34m)\u001b[0m\u001b[0;34m:\u001b[0m\u001b[0;34m\u001b[0m\u001b[0m\n\u001b[0;32m--> 204\u001b[0;31m             \u001b[0;32mraise\u001b[0m \u001b[0mRuntimeError\u001b[0m\u001b[0;34m(\u001b[0m\u001b[0;34m\"cannot release un-acquired lock\"\u001b[0m\u001b[0;34m)\u001b[0m\u001b[0;34m\u001b[0m\u001b[0m\n\u001b[0m\u001b[1;32m    205\u001b[0m         \u001b[0mself\u001b[0m\u001b[0;34m.\u001b[0m\u001b[0m__count\u001b[0m \u001b[0;34m=\u001b[0m \u001b[0mcount\u001b[0m \u001b[0;34m=\u001b[0m \u001b[0mself\u001b[0m\u001b[0;34m.\u001b[0m\u001b[0m__count\u001b[0m \u001b[0;34m-\u001b[0m \u001b[0;36m1\u001b[0m\u001b[0;34m\u001b[0m\u001b[0m\n\u001b[1;32m    206\u001b[0m         \u001b[0;32mif\u001b[0m \u001b[0;32mnot\u001b[0m \u001b[0mcount\u001b[0m\u001b[0;34m:\u001b[0m\u001b[0;34m\u001b[0m\u001b[0m\n",
      "\u001b[0;31mRuntimeError\u001b[0m: cannot release un-acquired lock"
     ]
    }
   ],
   "source": [
    "v.render_lock.release()"
   ]
  },
  {
   "cell_type": "code",
   "execution_count": null,
   "metadata": {},
   "outputs": [],
   "source": []
  }
 ],
 "metadata": {
  "kernelspec": {
   "display_name": "Python 2",
   "language": "python",
   "name": "python2"
  }
 },
 "nbformat": 4,
 "nbformat_minor": 2
}
