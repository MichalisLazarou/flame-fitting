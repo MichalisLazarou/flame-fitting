{
 "cells": [
  {
   "cell_type": "code",
   "execution_count": 1,
   "metadata": {},
   "outputs": [],
   "source": [
    "import numpy as np\n",
    "import sys\n",
    "sys.executable\n",
    "from os.path import join\n",
    "from smpl_webuser.serialization import load_model\n",
    "from fitting.util import write_simple_obj, safe_mkdir\n",
    "import trimesh\n",
    "import sklearn\n",
    "import pyrender\n",
    "from smpl_torch import SMPLModel\n",
    "from sklearn.metrics import mean_squared_error\n",
    "import glob\n",
    "import torch\n",
    "import torch.nn as nn\n",
    "import torch.nn.functional as F\n",
    "import torch.optim as optim\n",
    "from torch.distributions import Categorical\n",
    "\n",
    "learning_rate = 0.0002\n",
    "gamma         = 0.98"
   ]
  },
  {
   "cell_type": "code",
   "execution_count": 2,
   "metadata": {},
   "outputs": [],
   "source": [
    "def reward(model, mesh):\n",
    "    return - sum(sum((mesh.vertices - model)**2))# minimize distance between meshes"
   ]
  },
  {
   "cell_type": "code",
   "execution_count": 3,
   "metadata": {},
   "outputs": [],
   "source": [
    "#load the pytorch model\n",
    "pose_size = 15\n",
    "beta_size = 400\n",
    "\n",
    "pose = torch.from_numpy((np.zeros(pose_size))).type(torch.double)\n",
    "betas = torch.from_numpy((np.zeros(beta_size))).type(torch.float64)\n",
    "trans = torch.from_numpy(np.zeros(3)).type(torch.float64)\n",
    "model = SMPLModel()\n",
    "result = model(betas, pose, trans)"
   ]
  },
  {
   "cell_type": "code",
   "execution_count": 4,
   "metadata": {},
   "outputs": [],
   "source": [
    "#RL code\n",
    "class Policy(nn.Module):\n",
    "    def __init__(self):\n",
    "        super(Policy, self).__init__()\n",
    "        self.rewards = []\n",
    "        self.states = []\n",
    "        \n",
    "        self.fc1 = nn.Linear(15, 128)\n",
    "        self.fc2 = nn.Linear(128, 15)\n",
    "       # self.optimizer = optim.Adam(self.parameters(), lr=learning_rate)\n",
    "        \n",
    "    def forward(self, x):\n",
    "        x = F.relu(self.fc1(x))\n",
    "        x = F.relu(self.fc2(x))\n",
    "        return x\n",
    "    \n",
    "    def put_data(self, item, states):\n",
    "        self.rewards.append(item)\n",
    "        self.states.append(states)"
   ]
  },
  {
   "cell_type": "code",
   "execution_count": 5,
   "metadata": {},
   "outputs": [],
   "source": [
    "def main():\n",
    "    pose_size = 15\n",
    "    beta_size = 400\n",
    "    \n",
    "    coeffs = torch.tensor(np.zeros((1, 15)).astype('float64'), requires_grad = True)\n",
    "    pose = torch.from_numpy((np.zeros(pose_size))).type(torch.float64)\n",
    "    betas = torch.from_numpy((np.zeros(beta_size))).type(torch.float64)\n",
    "    trans = torch.from_numpy(np.zeros(3)).type(torch.float64)\n",
    "    model = SMPLModel()\n",
    "    result = model(betas, pose, trans)\n",
    "    print(pose.size)\n",
    "    print(coeffs)\n",
    "    pi = Policy()\n",
    "    score = 0 \n",
    "    optimizer = optim.Adam(pi.parameters(), lr=learning_rate)\n",
    "    for n_epi in range(10000):\n",
    "        #complete episode\n",
    "        R = 0\n",
    "        for name in sorted(glob.glob('/home/michalislazarou/PhD/VOCA/voca/animation_output/*.obj')):\n",
    "            print(name)\n",
    "            for i in range (1000):\n",
    "                obj_load = trimesh.load_mesh(name)\n",
    "                coeffs = pi(coeffs.float())\n",
    "                model = SMPLModel()\n",
    "                result = model(betas, coeffs.double(), trans)\n",
    "                \n",
    "                #r = reward(result, obj_load)\n",
    "                #pi.put_data(r, coeffs)\n",
    "                #coeffs = pose\n",
    "                # training my net\n",
    "                #R = r + gamma * R\n",
    "                \n",
    "                error = (result - torch.from_numpy(obj_load.vertices))\n",
    "                loss = torch.sum(torch.abs(result - torch.from_numpy(obj_load.vertices)))\n",
    "               # print(loss.shape)\n",
    "                optimizer.zero_grad()\n",
    "                loss.backward(retain_graph=True) \n",
    "                optimizer.step()\n",
    "                if i%100 == 0:\n",
    "                    print(coeffs)\n",
    "                    mesh = trimesh.Trimesh(result.detach(), model.faces)\n",
    "                    mesh.show(viewer = 'gl')\n",
    "                    obj_load.show(viewer = 'gl')\n",
    "                #score += r\n",
    "\n",
    "#pi.train_net()\n",
    "#mesh = trimesh.Trimesh(result, model.faces)\n",
    "#mesh.show(viewer = 'gl')"
   ]
  },
  {
   "cell_type": "code",
   "execution_count": null,
   "metadata": {},
   "outputs": [
    {
     "name": "stdout",
     "output_type": "stream",
     "text": [
      "<built-in method size of Tensor object at 0x7f458412d460>\n",
      "tensor([[0., 0., 0., 0., 0., 0., 0., 0., 0., 0., 0., 0., 0., 0., 0.]],\n",
      "       dtype=torch.float64, requires_grad=True)\n",
      "/home/michalislazarou/PhD/VOCA/voca/animation_output/00000.obj\n",
      "tensor([[0.0000, 0.0000, 0.0054, 0.0000, 0.0550, 0.0000, 0.0160, 0.0000, 0.0688,\n",
      "         0.0000, 0.0729, 0.0843, 0.0483, 0.0000, 0.0000]],\n",
      "       grad_fn=<ReluBackward0>)\n",
      "tensor([[0.0000, 0.0000, 0.0000, 0.0000, 0.0000, 0.0000, 0.0000, 0.0000, 0.5245,\n",
      "         0.0000, 0.0000, 0.2712, 0.3392, 0.0000, 0.0000]],\n",
      "       grad_fn=<ReluBackward0>)\n"
     ]
    }
   ],
   "source": [
    "main()"
   ]
  },
  {
   "cell_type": "code",
   "execution_count": null,
   "metadata": {},
   "outputs": [],
   "source": []
  },
  {
   "cell_type": "code",
   "execution_count": null,
   "metadata": {},
   "outputs": [],
   "source": []
  }
 ],
 "metadata": {
  "kernelspec": {
   "display_name": "Python 2",
   "language": "python",
   "name": "python2"
  },
  "language_info": {
   "codemirror_mode": {
    "name": "ipython",
    "version": 2
   },
   "file_extension": ".py",
   "mimetype": "text/x-python",
   "name": "python",
   "nbconvert_exporter": "python",
   "pygments_lexer": "ipython2",
   "version": "2.7.17"
  }
 },
 "nbformat": 4,
 "nbformat_minor": 2
}
