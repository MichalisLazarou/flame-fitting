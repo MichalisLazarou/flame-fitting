{
 "cells": [
  {
   "cell_type": "code",
   "execution_count": 1,
   "metadata": {},
   "outputs": [
    {
     "name": "stdout",
     "output_type": "stream",
     "text": [
      "('loaded model from:', './models/male_model.pkl')\n",
      "['J', 'J_regressor', 'J_transformed', 'T', '__abs__', '__add__', '__array__', '__array_priority__', '__call__', '__class__', '__delattr__', '__dict__', '__div__', '__doc__', '__float__', '__format__', '__ge__', '__getattribute__', '__getitem__', '__getstate__', '__gt__', '__hash__', '__init__', '__int__', '__le__', '__len__', '__lt__', '__module__', '__mul__', '__ne__', '__neg__', '__new__', '__pos__', '__pow__', '__radd__', '__rand__', '__rdiv__', '__reduce__', '__reduce_ex__', '__repr__', '__rmul__', '__rpow__', '__rsub__', '__setattr__', '__setitem__', '__setstate__', '__sizeof__', '__str__', '__sub__', '__subclasshook__', '__truediv__', '__weakref__', '_cache', '_cached_parms', '_call_on_changed', '_compute_dr_wrt_sliced', '_default_kwargs', '_depends_on_deps', '_dirty_vars', '_invalidate_cacheprop_names', '_itr', '_make_dense', '_make_sparse', '_parents', '_reserved_kw', '_setup_terms', '_status', '_superdot', 'a', 'add_dterm', 'b', 'betas', 'bs_style', 'bs_type', 'called_dr_wrt', 'ceil', 'clear_cache', 'clear_cache_wrt', 'compute_dr_wrt', 'compute_lop', 'compute_r', 'compute_rop', 'copy', 'cumsum', 'dot', 'dr_wrt', 'dterms', 'dtype', 'f', 'flat', 'floor', 'is_ch_baseclass', 'is_dr_wrt', 'itemsize', 'kintree_table', 'lmult_wrt', 'loop_children_do', 'lop', 'max', 'mean', 'min', 'minimize', 'ndim', 'on_changed', 'parm_declarations', 'pose', 'posedirs', 'print_labeled_residuals', 'profiler', 'r', 'ravel', 'remove_redundancy', 'replace', 'reset_flag', 'reshape', 'set', 'setup_terms', 'shape', 'shapedirs', 'short_name', 'show_tree', 'show_tree_cache', 'show_tree_wrt', 'sid', 'size', 'squeeze', 'sum', 'term_order', 'terms', 'trans', 'transpose', 'tree_iterator', 'v_posed', 'v_shaped', 'v_template', 'weights']\n",
      "<class 'chumpy.ch.Ch'>\n"
     ]
    }
   ],
   "source": [
    "import numpy as np\n",
    "import sys\n",
    "sys.executable\n",
    "from os.path import join\n",
    "from smpl_webuser.serialization import load_model\n",
    "from fitting.util import write_simple_obj, safe_mkdir\n",
    "import trimesh\n",
    "import sklearn\n",
    "import pyrender\n",
    "from sklearn.metrics import mean_squared_error\n",
    "import torch\n",
    "import glob\n",
    "\n",
    "#from rlagent import PGAgent\n",
    "# Load FLAME model (here we load the female model)\n",
    "# Make sure path is correct\n",
    "female_path = './models/female_model.pkl'\n",
    "male_path = './models/male_model.pkl'\n",
    "generic_path = './models/generic_model.pkl'\n",
    "model = load_model(generic_path)\n",
    "print (\"loaded model from:\", male_path)\n",
    "variables = [i for i in dir(model) if not callable(i)]\n",
    "print(variables)\n",
    "print(type(model.posedirs))"
   ]
  },
  {
   "cell_type": "code",
   "execution_count": 2,
   "metadata": {},
   "outputs": [
    {
     "name": "stdout",
     "output_type": "stream",
     "text": [
      "\n",
      "FLAME coefficients:\n",
      "shape (identity) coefficient shape = (300,)\n",
      "expression coefficient shape       = (100,)\n",
      "pose coefficient shape             = (15,)\n",
      "\n",
      "FLAME model components:\n",
      "shape (identity) component shape = (5023, 3, 300)\n",
      "expression component shape       = (5023, 3, 100)\n",
      "pose corrective blendshape shape = (5023, 3, 36)\n",
      "\n"
     ]
    }
   ],
   "source": [
    "print \"\\nFLAME coefficients:\"\n",
    "print \"shape (identity) coefficient shape =\", model.betas[0:300].shape # valid shape component range in \"betas\": 0-299\n",
    "print \"expression coefficient shape       =\", model.betas[300:].shape  # valid expression component range in \"betas\": 300-399\n",
    "print \"pose coefficient shape             =\", model.pose.shape\n",
    "\n",
    "print \"\\nFLAME model components:\"\n",
    "print \"shape (identity) component shape =\", model.shapedirs[:,:,0:300].shape\n",
    "print \"expression component shape       =\", model.shapedirs[:,:,300:].shape\n",
    "print \"pose corrective blendshape shape =\", model.posedirs.shape\n",
    "print \"\""
   ]
  },
  {
   "cell_type": "code",
   "execution_count": 3,
   "metadata": {},
   "outputs": [
    {
     "data": {
      "text/plain": [
       "SceneViewer(width=1299, height=713)"
      ]
     },
     "execution_count": 3,
     "metadata": {},
     "output_type": "execute_result"
    }
   ],
   "source": [
    "model.pose[0:15] = 0\n",
    "mesh = trimesh.Trimesh(model.r, model.f)\n",
    "A = np.array(model.shapedirs)\n",
    "mesh.show(viewer = 'gl')"
   ]
  },
  {
   "cell_type": "code",
   "execution_count": 4,
   "metadata": {},
   "outputs": [],
   "source": [
    "#changing model parameters\n",
    "#model.pose[0:15] = 1\n",
    "#mesh = trimesh.Trimesh(model.r, model.f)\n",
    "#mesh.show(viewer = 'gl')"
   ]
  },
  {
   "cell_type": "code",
   "execution_count": 5,
   "metadata": {},
   "outputs": [
    {
     "name": "stdout",
     "output_type": "stream",
     "text": [
      "71.36866434962708\n"
     ]
    }
   ],
   "source": [
    "obj_load = trimesh.load_mesh('/home/michalislazarou/PhD/VOCA/voca/animation_output/00087.obj')\n",
    "#obj_load.show(viewer = 'gl')\n",
    "loss = sum(sum((obj_load.vertices - model.r)**2))\n",
    "print(loss)"
   ]
  },
  {
   "cell_type": "code",
   "execution_count": 19,
   "metadata": {},
   "outputs": [
    {
     "name": "stdout",
     "output_type": "stream",
     "text": [
      "(0.0044899399101906295, array([-0.01754271, -0.08577443,  0.10695862]), TrackedArray([ 0.07409152, -0.22313159,  0.07183197]))\n",
      "[ 0.09163424 -0.13735716 -0.03512665]\n"
     ]
    }
   ],
   "source": [
    "print(loss1, model.r[0], mesh.vertices[0])\n",
    "print(mesh.vertices[0] - model.r[0])"
   ]
  },
  {
   "cell_type": "code",
   "execution_count": 4,
   "metadata": {},
   "outputs": [
    {
     "data": {
      "text/plain": [
       "Viewer(width=640, height=480)"
      ]
     },
     "execution_count": 4,
     "metadata": {},
     "output_type": "execute_result"
    }
   ],
   "source": [
    "obj_load = trimesh.load_mesh('/home/michalislazarou/PhD/VOCA/voca/animation_output/00191.obj')\n",
    "mesh = pyrender.Mesh.from_trimesh(obj_load)\n",
    "scene = pyrender.Scene()\n",
    "#variables = [i for i in dir(scene) if not callable(i)]\n",
    "#camera = pyrender.IntrinsicsCamera(fx, fy, cx, cy, yfov = 1, aspectRatio=1.0, znear=0.05 )\n",
    "#r = pyrender.OffscreenRenderer(viewport_width=640, viewport_height=480, point_size=1.0)\n",
    "\n",
    "#print(variables)\n",
    "#v = pyrender.Viewer(scene, use_raymond_lighting=True, run_in_thread=True)\n",
    "#for name in sorted(glob.glob('/home/michalislazarou/PhD/VOCA/voca/animation_output/*.obj')):\n",
    " #   obj_load = trimesh.load_mesh(name)\n",
    "  #  mesh = pyrender.Mesh.from_trimesh(obj_load)\n",
    "scene.add(mesh)\n",
    "#scene.add(camera)\n",
    "\n",
    "pyrender.Viewer(scene, use_raymond_lighting=True)"
   ]
  },
  {
   "cell_type": "code",
   "execution_count": null,
   "metadata": {},
   "outputs": [],
   "source": []
  },
  {
   "cell_type": "code",
   "execution_count": null,
   "metadata": {},
   "outputs": [
    {
     "name": "stdout",
     "output_type": "stream",
     "text": [
      "[-0.06366303 -0.05453378  0.0523619   0.00803254  0.0036163  -0.04558565\n",
      " -0.07479777  0.00206427 -0.04035823  0.04482574 -0.0310239   0.0531057\n",
      "  0.02521082 -0.03508798 -0.0386354 ]\n",
      "(5023, 3)\n"
     ]
    }
   ],
   "source": [
    "model.pose[:]  = np.random.randn( model.pose.size ) * 0.05\n",
    "model.betas[:] = np.random.randn( model.betas.size ) * 1.0\n",
    "print(model.pose)\n",
    "print(model.r.shape)\n",
    "path = '/home/michalislazarou/PhD/VOCA/voca/animation_output'\n",
    "#mesh = trimesh.load_mesh('/home/michalislazarou/PhD/VOCA/voca/animation_output/00191.obj')\n",
    "for name in sorted(glob.glob('/home/michalislazarou/PhD/VOCA/voca/animation_output/*.obj')):\n",
    "    mesh = trimesh.load_mesh(name)\n",
    "    #trimesh.Trimesh(vertices = name.v, faces = model.f).show(viewer = 'gl')\n",
    "    mesh.show(viewer = 'gl')"
   ]
  },
  {
   "cell_type": "code",
   "execution_count": null,
   "metadata": {},
   "outputs": [],
   "source": [
    "variables = [i for i in dir(mesh) if not callable(i)]\n",
    "print(variables)"
   ]
  },
  {
   "cell_type": "code",
   "execution_count": 6,
   "metadata": {},
   "outputs": [
    {
     "name": "stdout",
     "output_type": "stream",
     "text": [
      "[-0.0003605 -0.0204175 -0.0415275]\n"
     ]
    }
   ],
   "source": [
    "print(mesh.centroid)"
   ]
  },
  {
   "cell_type": "code",
   "execution_count": null,
   "metadata": {},
   "outputs": [],
   "source": []
  }
 ],
 "metadata": {
  "kernelspec": {
   "display_name": "Python 3",
   "language": "python",
   "name": "python3"
  },
  "language_info": {
   "codemirror_mode": {
    "name": "ipython",
    "version": 3
   },
   "file_extension": ".py",
   "mimetype": "text/x-python",
   "name": "python",
   "nbconvert_exporter": "python",
   "pygments_lexer": "ipython3",
   "version": "3.7.3"
  }
 },
 "nbformat": 4,
 "nbformat_minor": 2
}
